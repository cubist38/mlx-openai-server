{
 "cells": [
  {
   "cell_type": "markdown",
   "id": "944bf441",
   "metadata": {},
   "source": [
    "# Transcription Tasks with MLX Server and OpenAI API"
   ]
  },
  {
   "cell_type": "markdown",
   "id": "6dafc3b4",
   "metadata": {},
   "source": [
    "This notebook demonstrates how to use the MLX Server with OpenAI-compatible API for transcription tasks.\n"
   ]
  },
  {
   "cell_type": "markdown",
   "id": "6d89bacb",
   "metadata": {},
   "source": [
    "## Setup and Imports"
   ]
  },
  {
   "cell_type": "markdown",
   "id": "bfcfd46c",
   "metadata": {},
   "source": [
    "First, we'll import the necessary libraries and establish a connection to the MLX Server."
   ]
  },
  {
   "cell_type": "code",
   "execution_count": 1,
   "id": "a74ac262",
   "metadata": {},
   "outputs": [],
   "source": [
    "# Import the OpenAI client for API communication\n",
    "from openai import OpenAI\n",
    "\n",
    "# Connect to the local MLX Server with OpenAI-compatible API\n",
    "client = OpenAI(\n",
    "    base_url=\"http://localhost:8000/v1\",\n",
    "    api_key=\"fake-api-key\",\n",
    ")"
   ]
  },
  {
   "cell_type": "code",
   "execution_count": 6,
   "id": "d68dd370",
   "metadata": {},
   "outputs": [],
   "source": [
    "audio_path = \"audios/audio.wav\""
   ]
  },
  {
   "cell_type": "code",
   "execution_count": null,
   "id": "7e8a4c6a",
   "metadata": {},
   "outputs": [
    {
     "name": "stdout",
     "output_type": "stream",
     "text": [
      "transcription result:  Dogs are sitting by the door.\n"
     ]
    }
   ],
   "source": [
    "with open(audio_path, \"rb\") as f:\n",
    "    transcription = client.audio.transcriptions.create(\n",
    "        file=f,\n",
    "        model=\"openai/whisper-large-v3\",\n",
    "        language=\"en\",\n",
    "        response_format=\"json\",\n",
    "        temperature=0.0,\n",
    "    )\n",
    "    print(\"Transcription result:\", transcription.text)"
   ]
  },
  {
   "cell_type": "code",
   "execution_count": null,
   "id": "58062f32",
   "metadata": {},
   "outputs": [],
   "source": []
  }
 ],
 "metadata": {
  "kernelspec": {
   "display_name": ".venv",
   "language": "python",
   "name": "python3"
  },
  "language_info": {
   "codemirror_mode": {
    "name": "ipython",
    "version": 3
   },
   "file_extension": ".py",
   "mimetype": "text/x-python",
   "name": "python",
   "nbconvert_exporter": "python",
   "pygments_lexer": "ipython3",
   "version": "3.11.13"
  }
 },
 "nbformat": 4,
 "nbformat_minor": 5
}
