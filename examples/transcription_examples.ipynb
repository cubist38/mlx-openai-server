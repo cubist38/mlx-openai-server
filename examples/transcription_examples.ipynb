{
 "cells": [
  {
   "cell_type": "markdown",
   "id": "944bf441",
   "metadata": {},
   "source": [
    "# Transcription Tasks with MLX Server and OpenAI API"
   ]
  },
  {
   "cell_type": "markdown",
   "id": "6dafc3b4",
   "metadata": {},
   "source": [
    "This notebook demonstrates how to use the MLX Server with OpenAI-compatible API for transcription tasks.\n"
   ]
  },
  {
   "cell_type": "markdown",
   "id": "6d89bacb",
   "metadata": {},
   "source": [
    "## Setup and Imports"
   ]
  },
  {
   "cell_type": "markdown",
   "id": "bfcfd46c",
   "metadata": {},
   "source": [
    "First, we'll import the necessary libraries and establish a connection to the MLX Server."
   ]
  },
  {
   "cell_type": "code",
   "execution_count": 7,
   "id": "a74ac262",
   "metadata": {},
   "outputs": [],
   "source": [
    "# Import the OpenAI client for API communication\n",
    "from openai import OpenAI\n",
    "\n",
    "# Connect to the local MLX Server with OpenAI-compatible API\n",
    "client = OpenAI(\n",
    "    base_url=\"http://localhost:8000/v1\",\n",
    "    api_key=\"fake-api-key\",\n",
    ")"
   ]
  },
  {
   "cell_type": "code",
   "execution_count": 2,
   "id": "d68dd370",
   "metadata": {},
   "outputs": [],
   "source": [
    "audio_path = \"audios/podcast.wav\""
   ]
  },
  {
   "cell_type": "code",
   "execution_count": 5,
   "id": "7e8a4c6a",
   "metadata": {},
   "outputs": [
    {
     "name": "stdout",
     "output_type": "stream",
     "text": [
      "Transcription(text=\" What if Tangero never had the demon slayer mark? Without the mark, Tangero's strength would have hit a ceiling, no insane speed boosts, no crazy recovery. Against upper moons, he'd be fighting on pure heart and swordsmanship alone. Imagine the red blade moment, weaker, slower and every fight, becoming a desperate struggle. Would he still beat a Kaza? Maybe, but Muzon, without that extra edge, Tangero's fate could have been completely different. And here's the twist. Tangero's biggest weapon has always been his willpower. Even without the mark, would his determination rewrite destiny? Do you think Tangero could win without the mark? Comment below.\", logprobs=None, usage={'type': 'duration', 'seconds': 72})\n"
     ]
    }
   ],
   "source": [
    "with open(audio_path, \"rb\") as f:\n",
    "    transcription = client.audio.transcriptions.create(\n",
    "        file=f,\n",
    "        model=\"mlx-community/whisper-tiny\",\n",
    "        language=\"en\",\n",
    "        response_format=\"json\",\n",
    "        temperature=0.0,\n",
    "    )\n",
    "    print(transcription)"
   ]
  },
  {
   "cell_type": "code",
   "execution_count": 6,
   "id": "58062f32",
   "metadata": {},
   "outputs": [
    {
     "name": "stdout",
     "output_type": "stream",
     "text": [
      "TranscriptionTextDeltaEvent(delta=None, type=None, logprobs=None, id='transcription-32cd0b68-a2f9-4240-bc9e-4a7dd1e7e17d', object='transcription.chunk', created=1759658874, model='mlx-community/whisper-tiny', choices=[{'delta': {'content': \" What if Tangero never had the demon slayer mark? Without the mark, Tangero's strength would have hit a ceiling, no insane speed boosts, no crazy recovery. Against upper moons, he'd be fighting on pure heart and swordsmanship alone. Imagine the red blade moment.\", 'function_call': None, 'refusal': None, 'role': None, 'tool_calls': None, 'reasoning_content': None}, 'finish_reason': None, 'stop_reason': None}], usage=None)\n",
      "TranscriptionTextDeltaEvent(delta=None, type=None, logprobs=None, id='transcription-32cd0b68-a2f9-4240-bc9e-4a7dd1e7e17d', object='transcription.chunk', created=1759658874, model='mlx-community/whisper-tiny', choices=[{'delta': {'content': \" weaker, slower, and every fight becoming a desperate struggle. Would he still beat Akaza? Maybe, but Muson, without that extra edge, Tangeros' fate could have been completely different. But here's the twist. Tangeros' biggest weapon has always been his willpower. Even without...\", 'function_call': None, 'refusal': None, 'role': None, 'tool_calls': None, 'reasoning_content': None}, 'finish_reason': None, 'stop_reason': None}], usage=None)\n",
      "TranscriptionTextDeltaEvent(delta=None, type=None, logprobs=None, id='transcription-32cd0b68-a2f9-4240-bc9e-4a7dd1e7e17d', object='transcription.chunk', created=1759658874, model='mlx-community/whisper-tiny', choices=[{'delta': {'content': ' The Mark would his determination rewrite destiny? Do you think Tangero could win without the Mark? Comment below!', 'function_call': None, 'refusal': None, 'role': None, 'tool_calls': None, 'reasoning_content': None}, 'finish_reason': None, 'stop_reason': None}], usage=None)\n",
      "TranscriptionTextDeltaEvent(delta=None, type=None, logprobs=None, id='transcription-32cd0b68-a2f9-4240-bc9e-4a7dd1e7e17d', object='transcription.chunk', created=1759658874, model='mlx-community/whisper-tiny', choices=[{'delta': {'content': '', 'function_call': None, 'refusal': None, 'role': None, 'tool_calls': None, 'reasoning_content': None}, 'finish_reason': 'stop', 'stop_reason': None}], usage=None)\n"
     ]
    }
   ],
   "source": [
    "with open(audio_path, \"rb\") as f:\n",
    "    stream = client.audio.transcriptions.create(\n",
    "        file=f,\n",
    "        model=\"mlx-community/whisper-tiny\",\n",
    "        language=\"en\",\n",
    "        response_format=\"json\",\n",
    "        temperature=0.0,\n",
    "        stream=True,\n",
    "    )\n",
    "    for chunk in stream:\n",
    "        print(chunk)"
   ]
  },
  {
   "cell_type": "code",
   "execution_count": null,
   "id": "9495f63e",
   "metadata": {},
   "outputs": [],
   "source": []
  }
 ],
 "metadata": {
  "kernelspec": {
   "display_name": "Python 3",
   "language": "python",
   "name": "python3"
  },
  "language_info": {
   "codemirror_mode": {
    "name": "ipython",
    "version": 3
   },
   "file_extension": ".py",
   "mimetype": "text/x-python",
   "name": "python",
   "nbconvert_exporter": "python",
   "pygments_lexer": "ipython3",
   "version": "3.11.13"
  }
 },
 "nbformat": 4,
 "nbformat_minor": 5
}
