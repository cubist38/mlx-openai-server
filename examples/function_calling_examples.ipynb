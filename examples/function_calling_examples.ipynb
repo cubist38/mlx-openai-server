{
 "cells": [
  {
   "cell_type": "markdown",
   "metadata": {},
   "source": [
    "# MLX Server Function Calling Example\n",
    "\n",
    "This is a detailed text version of the function calling example for MLX Server with OpenAI-compatible API."
   ]
  },
  {
   "cell_type": "markdown",
   "metadata": {},
   "source": [
    "## Setup"
   ]
  },
  {
   "cell_type": "code",
   "execution_count": 50,
   "metadata": {},
   "outputs": [],
   "source": [
    "from openai import OpenAI"
   ]
  },
  {
   "cell_type": "markdown",
   "metadata": {},
   "source": [
    "## Initialize the client\n",
    "\n",
    "Connect to your local MLX server:"
   ]
  },
  {
   "cell_type": "code",
   "execution_count": 51,
   "metadata": {},
   "outputs": [],
   "source": [
    "client = OpenAI(\n",
    "    base_url = \"http://localhost:8000/v1\",\n",
    "    api_key = \"mlx-server-api-key\"\n",
    ")"
   ]
  },
  {
   "cell_type": "markdown",
   "metadata": {},
   "source": [
    "## Function calling example\n",
    "\n",
    "This example demonstrates how to use function calling with the MLX server:"
   ]
  },
  {
   "cell_type": "code",
   "execution_count": 57,
   "metadata": {},
   "outputs": [
    {
     "name": "stdout",
     "output_type": "stream",
     "text": [
      "[ChatCompletionMessageToolCall(id='call-1746182514150232', function=Function(arguments='{\"city\": \"Tokyo\"}', name='get_weather'), type='function')]\n"
     ]
    }
   ],
   "source": [
    "# Define the user message\n",
    "messages = [\n",
    "    {\n",
    "        \"role\": \"user\",\n",
    "        \"content\": \"What is the weather in Tokyo?\"\n",
    "    }\n",
    "]\n",
    "\n",
    "# Define the available tools/functions\n",
    "tools = [\n",
    "    {\n",
    "        \"type\": \"function\",\n",
    "        \"function\": {\n",
    "            \"name\": \"get_weather\",\n",
    "            \"description\": \"Get the weather in a given city\",\n",
    "            \"parameters\": {\n",
    "                \"type\": \"object\",\n",
    "                \"properties\": {\n",
    "                    \"city\": {\"type\": \"string\", \"description\": \"The city to get the weather for\"}\n",
    "                }\n",
    "            }\n",
    "        }\n",
    "    }\n",
    "]\n",
    "\n",
    "# Make the API call\n",
    "completion = client.chat.completions.create(\n",
    "    model=\"mlx-server-model\",\n",
    "    messages=messages,\n",
    "    tools=tools,\n",
    "    tool_choice=\"auto\",\n",
    "    max_tokens = 512,\n",
    "    extra_body = {\n",
    "        \"enable_thinking\": True\n",
    "    }\n",
    ")\n",
    "\n",
    "# Get the result\n",
    "print(completion.choices[0].message.tool_calls)"
   ]
  },
  {
   "cell_type": "code",
   "execution_count": 58,
   "metadata": {},
   "outputs": [
    {
     "name": "stdout",
     "output_type": "stream",
     "text": [
      "<think>\n",
      "Okay, the user is asking for the weather in Tokyo. Let me check the tools provided. There's a function called get_weather that takes a city parameter. So I need to call that function with the city set to Tokyo. I'll make sure the JSON is correctly formatted with the city name as a string. Let me double-check the parameters. The function requires \"city\" as a string, so the arguments should be {\"city\": \"Tokyo\"}. Alright, that's all I need for the tool call.\n",
      "</think>\n"
     ]
    }
   ],
   "source": [
    "print(completion.choices[0].message.content)"
   ]
  },
  {
   "cell_type": "markdown",
   "metadata": {},
   "source": [
    "## Streaming version"
   ]
  },
  {
   "cell_type": "code",
   "execution_count": 59,
   "metadata": {},
   "outputs": [
    {
     "name": "stdout",
     "output_type": "stream",
     "text": [
      "ChoiceDelta(content='<think>', function_call=None, refusal=None, role='assistant', tool_calls=None)\n",
      "ChoiceDelta(content='\\n', function_call=None, refusal=None, role='assistant', tool_calls=None)\n",
      "ChoiceDelta(content='Okay', function_call=None, refusal=None, role='assistant', tool_calls=None)\n",
      "ChoiceDelta(content=',', function_call=None, refusal=None, role='assistant', tool_calls=None)\n",
      "ChoiceDelta(content=' the', function_call=None, refusal=None, role='assistant', tool_calls=None)\n",
      "ChoiceDelta(content=' user', function_call=None, refusal=None, role='assistant', tool_calls=None)\n",
      "ChoiceDelta(content=' is', function_call=None, refusal=None, role='assistant', tool_calls=None)\n",
      "ChoiceDelta(content=' asking', function_call=None, refusal=None, role='assistant', tool_calls=None)\n",
      "ChoiceDelta(content=' for', function_call=None, refusal=None, role='assistant', tool_calls=None)\n",
      "ChoiceDelta(content=' the', function_call=None, refusal=None, role='assistant', tool_calls=None)\n",
      "ChoiceDelta(content=' weather', function_call=None, refusal=None, role='assistant', tool_calls=None)\n",
      "ChoiceDelta(content=' in', function_call=None, refusal=None, role='assistant', tool_calls=None)\n",
      "ChoiceDelta(content=' Tokyo', function_call=None, refusal=None, role='assistant', tool_calls=None)\n",
      "ChoiceDelta(content='.', function_call=None, refusal=None, role='assistant', tool_calls=None)\n",
      "ChoiceDelta(content=' Let', function_call=None, refusal=None, role='assistant', tool_calls=None)\n",
      "ChoiceDelta(content=' me', function_call=None, refusal=None, role='assistant', tool_calls=None)\n",
      "ChoiceDelta(content=' check', function_call=None, refusal=None, role='assistant', tool_calls=None)\n",
      "ChoiceDelta(content=' the', function_call=None, refusal=None, role='assistant', tool_calls=None)\n",
      "ChoiceDelta(content=' tools', function_call=None, refusal=None, role='assistant', tool_calls=None)\n",
      "ChoiceDelta(content=' provided', function_call=None, refusal=None, role='assistant', tool_calls=None)\n",
      "ChoiceDelta(content='.', function_call=None, refusal=None, role='assistant', tool_calls=None)\n",
      "ChoiceDelta(content=' There', function_call=None, refusal=None, role='assistant', tool_calls=None)\n",
      "ChoiceDelta(content=\"'s\", function_call=None, refusal=None, role='assistant', tool_calls=None)\n",
      "ChoiceDelta(content=' a', function_call=None, refusal=None, role='assistant', tool_calls=None)\n",
      "ChoiceDelta(content=' function', function_call=None, refusal=None, role='assistant', tool_calls=None)\n",
      "ChoiceDelta(content=' called', function_call=None, refusal=None, role='assistant', tool_calls=None)\n",
      "ChoiceDelta(content=' get', function_call=None, refusal=None, role='assistant', tool_calls=None)\n",
      "ChoiceDelta(content='_weather', function_call=None, refusal=None, role='assistant', tool_calls=None)\n",
      "ChoiceDelta(content=' that', function_call=None, refusal=None, role='assistant', tool_calls=None)\n",
      "ChoiceDelta(content=' takes', function_call=None, refusal=None, role='assistant', tool_calls=None)\n",
      "ChoiceDelta(content=' a', function_call=None, refusal=None, role='assistant', tool_calls=None)\n",
      "ChoiceDelta(content=' city', function_call=None, refusal=None, role='assistant', tool_calls=None)\n",
      "ChoiceDelta(content=' parameter', function_call=None, refusal=None, role='assistant', tool_calls=None)\n",
      "ChoiceDelta(content='.', function_call=None, refusal=None, role='assistant', tool_calls=None)\n",
      "ChoiceDelta(content=' So', function_call=None, refusal=None, role='assistant', tool_calls=None)\n",
      "ChoiceDelta(content=' I', function_call=None, refusal=None, role='assistant', tool_calls=None)\n",
      "ChoiceDelta(content=' need', function_call=None, refusal=None, role='assistant', tool_calls=None)\n",
      "ChoiceDelta(content=' to', function_call=None, refusal=None, role='assistant', tool_calls=None)\n",
      "ChoiceDelta(content=' call', function_call=None, refusal=None, role='assistant', tool_calls=None)\n",
      "ChoiceDelta(content=' that', function_call=None, refusal=None, role='assistant', tool_calls=None)\n",
      "ChoiceDelta(content=' function', function_call=None, refusal=None, role='assistant', tool_calls=None)\n",
      "ChoiceDelta(content=' with', function_call=None, refusal=None, role='assistant', tool_calls=None)\n",
      "ChoiceDelta(content=' the', function_call=None, refusal=None, role='assistant', tool_calls=None)\n",
      "ChoiceDelta(content=' city', function_call=None, refusal=None, role='assistant', tool_calls=None)\n",
      "ChoiceDelta(content=' set', function_call=None, refusal=None, role='assistant', tool_calls=None)\n",
      "ChoiceDelta(content=' to', function_call=None, refusal=None, role='assistant', tool_calls=None)\n",
      "ChoiceDelta(content=' Tokyo', function_call=None, refusal=None, role='assistant', tool_calls=None)\n",
      "ChoiceDelta(content='.', function_call=None, refusal=None, role='assistant', tool_calls=None)\n",
      "ChoiceDelta(content=' I', function_call=None, refusal=None, role='assistant', tool_calls=None)\n",
      "ChoiceDelta(content=\"'ll\", function_call=None, refusal=None, role='assistant', tool_calls=None)\n",
      "ChoiceDelta(content=' make', function_call=None, refusal=None, role='assistant', tool_calls=None)\n",
      "ChoiceDelta(content=' sure', function_call=None, refusal=None, role='assistant', tool_calls=None)\n",
      "ChoiceDelta(content=' the', function_call=None, refusal=None, role='assistant', tool_calls=None)\n",
      "ChoiceDelta(content=' JSON', function_call=None, refusal=None, role='assistant', tool_calls=None)\n",
      "ChoiceDelta(content=' is', function_call=None, refusal=None, role='assistant', tool_calls=None)\n",
      "ChoiceDelta(content=' correctly', function_call=None, refusal=None, role='assistant', tool_calls=None)\n",
      "ChoiceDelta(content=' formatted', function_call=None, refusal=None, role='assistant', tool_calls=None)\n",
      "ChoiceDelta(content=' with', function_call=None, refusal=None, role='assistant', tool_calls=None)\n",
      "ChoiceDelta(content=' the', function_call=None, refusal=None, role='assistant', tool_calls=None)\n",
      "ChoiceDelta(content=' city', function_call=None, refusal=None, role='assistant', tool_calls=None)\n",
      "ChoiceDelta(content=' name', function_call=None, refusal=None, role='assistant', tool_calls=None)\n",
      "ChoiceDelta(content=' as', function_call=None, refusal=None, role='assistant', tool_calls=None)\n",
      "ChoiceDelta(content=' a', function_call=None, refusal=None, role='assistant', tool_calls=None)\n",
      "ChoiceDelta(content=' string', function_call=None, refusal=None, role='assistant', tool_calls=None)\n",
      "ChoiceDelta(content='.', function_call=None, refusal=None, role='assistant', tool_calls=None)\n",
      "ChoiceDelta(content=' Let', function_call=None, refusal=None, role='assistant', tool_calls=None)\n",
      "ChoiceDelta(content=' me', function_call=None, refusal=None, role='assistant', tool_calls=None)\n",
      "ChoiceDelta(content=' double', function_call=None, refusal=None, role='assistant', tool_calls=None)\n",
      "ChoiceDelta(content='-check', function_call=None, refusal=None, role='assistant', tool_calls=None)\n",
      "ChoiceDelta(content=' the', function_call=None, refusal=None, role='assistant', tool_calls=None)\n",
      "ChoiceDelta(content=' parameters', function_call=None, refusal=None, role='assistant', tool_calls=None)\n",
      "ChoiceDelta(content='.', function_call=None, refusal=None, role='assistant', tool_calls=None)\n",
      "ChoiceDelta(content=' The', function_call=None, refusal=None, role='assistant', tool_calls=None)\n",
      "ChoiceDelta(content=' function', function_call=None, refusal=None, role='assistant', tool_calls=None)\n",
      "ChoiceDelta(content=' requires', function_call=None, refusal=None, role='assistant', tool_calls=None)\n",
      "ChoiceDelta(content=' \"', function_call=None, refusal=None, role='assistant', tool_calls=None)\n",
      "ChoiceDelta(content='city', function_call=None, refusal=None, role='assistant', tool_calls=None)\n",
      "ChoiceDelta(content='\"', function_call=None, refusal=None, role='assistant', tool_calls=None)\n",
      "ChoiceDelta(content=' as', function_call=None, refusal=None, role='assistant', tool_calls=None)\n",
      "ChoiceDelta(content=' a', function_call=None, refusal=None, role='assistant', tool_calls=None)\n",
      "ChoiceDelta(content=' string', function_call=None, refusal=None, role='assistant', tool_calls=None)\n",
      "ChoiceDelta(content=',', function_call=None, refusal=None, role='assistant', tool_calls=None)\n",
      "ChoiceDelta(content=' so', function_call=None, refusal=None, role='assistant', tool_calls=None)\n",
      "ChoiceDelta(content=' the', function_call=None, refusal=None, role='assistant', tool_calls=None)\n",
      "ChoiceDelta(content=' arguments', function_call=None, refusal=None, role='assistant', tool_calls=None)\n",
      "ChoiceDelta(content=' should', function_call=None, refusal=None, role='assistant', tool_calls=None)\n",
      "ChoiceDelta(content=' be', function_call=None, refusal=None, role='assistant', tool_calls=None)\n",
      "ChoiceDelta(content=' {\"', function_call=None, refusal=None, role='assistant', tool_calls=None)\n",
      "ChoiceDelta(content='city', function_call=None, refusal=None, role='assistant', tool_calls=None)\n",
      "ChoiceDelta(content='\":', function_call=None, refusal=None, role='assistant', tool_calls=None)\n",
      "ChoiceDelta(content=' \"', function_call=None, refusal=None, role='assistant', tool_calls=None)\n",
      "ChoiceDelta(content='Tok', function_call=None, refusal=None, role='assistant', tool_calls=None)\n",
      "ChoiceDelta(content='yo', function_call=None, refusal=None, role='assistant', tool_calls=None)\n",
      "ChoiceDelta(content='\"', function_call=None, refusal=None, role='assistant', tool_calls=None)\n",
      "ChoiceDelta(content='}.', function_call=None, refusal=None, role='assistant', tool_calls=None)\n",
      "ChoiceDelta(content=' Alright', function_call=None, refusal=None, role='assistant', tool_calls=None)\n",
      "ChoiceDelta(content=',', function_call=None, refusal=None, role='assistant', tool_calls=None)\n",
      "ChoiceDelta(content=' that', function_call=None, refusal=None, role='assistant', tool_calls=None)\n",
      "ChoiceDelta(content=\"'s\", function_call=None, refusal=None, role='assistant', tool_calls=None)\n",
      "ChoiceDelta(content=' all', function_call=None, refusal=None, role='assistant', tool_calls=None)\n",
      "ChoiceDelta(content=' I', function_call=None, refusal=None, role='assistant', tool_calls=None)\n",
      "ChoiceDelta(content=' need', function_call=None, refusal=None, role='assistant', tool_calls=None)\n",
      "ChoiceDelta(content=' for', function_call=None, refusal=None, role='assistant', tool_calls=None)\n",
      "ChoiceDelta(content=' the', function_call=None, refusal=None, role='assistant', tool_calls=None)\n",
      "ChoiceDelta(content=' tool', function_call=None, refusal=None, role='assistant', tool_calls=None)\n",
      "ChoiceDelta(content=' call', function_call=None, refusal=None, role='assistant', tool_calls=None)\n",
      "ChoiceDelta(content='.\\n', function_call=None, refusal=None, role='assistant', tool_calls=None)\n",
      "ChoiceDelta(content='</think>', function_call=None, refusal=None, role='assistant', tool_calls=None)\n",
      "ChoiceDelta(content='\\n\\n', function_call=None, refusal=None, role='assistant', tool_calls=None)\n",
      "ChoiceDelta(content=None, function_call=ChoiceDeltaFunctionCall(arguments='', name='get_weather'), refusal=None, role='assistant', tool_calls=[ChoiceDeltaToolCall(index=0, id='call-1746182538206061', function=ChoiceDeltaToolCallFunction(arguments='', name='get_weather'), type='function')])\n",
      "ChoiceDelta(content=None, function_call=ChoiceDeltaFunctionCall(arguments='{\"city\": \"Tokyo\"}', name=None), refusal=None, role='assistant', tool_calls=[ChoiceDeltaToolCall(index=0, id=None, function=ChoiceDeltaToolCallFunction(arguments='{\"city\": \"Tokyo\"}', name=None), type=None)])\n",
      "ChoiceDelta(content='', function_call=None, refusal=None, role='assistant', tool_calls=None)\n"
     ]
    }
   ],
   "source": [
    "# Set stream=True in the API call\n",
    "completion = client.chat.completions.create(\n",
    "    model=\"mlx-server-model\",\n",
    "    messages=messages,\n",
    "    tools=tools,\n",
    "    tool_choice=\"auto\",\n",
    "    stream=True,\n",
    "    extra_body = {\n",
    "        \"enable_thinking\": True\n",
    "    }\n",
    ")\n",
    "\n",
    "# Process the streaming response\n",
    "for chunk in completion:\n",
    "    delta = chunk.choices[0].delta\n",
    "    print(delta)"
   ]
  }
 ],
 "metadata": {
  "kernelspec": {
   "display_name": "Python 3",
   "language": "python",
   "name": "python3"
  },
  "language_info": {
   "codemirror_mode": {
    "name": "ipython",
    "version": 3
   },
   "file_extension": ".py",
   "mimetype": "text/x-python",
   "name": "python",
   "nbconvert_exporter": "python",
   "pygments_lexer": "ipython3",
   "version": "3.11.12"
  }
 },
 "nbformat": 4,
 "nbformat_minor": 2
}
